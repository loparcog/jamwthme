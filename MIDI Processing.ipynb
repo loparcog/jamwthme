{
 "cells": [
  {
   "cell_type": "markdown",
   "metadata": {},
   "source": [
    "MIDI DATA PROCESSING\n",
    "\n",
    "Import MIDI processing libraries"
   ]
  },
  {
   "cell_type": "code",
   "execution_count": 2,
   "metadata": {},
   "outputs": [],
   "source": [
    "import mido"
   ]
  },
  {
   "cell_type": "markdown",
   "metadata": {},
   "source": [
    "Try testing out some note and outputs"
   ]
  },
  {
   "cell_type": "code",
   "execution_count": 3,
   "metadata": {},
   "outputs": [],
   "source": [
    "# Create note\n",
    "msg = mido.Message('note_on', note=60)\n",
    "# Create output stream to play note\n",
    "outport = mido.open_output()\n",
    "# Send the note\n",
    "outport.send(msg)"
   ]
  },
  {
   "cell_type": "markdown",
   "metadata": {},
   "source": [
    "If a note output, congratulations! Things are working!\n",
    "If not there's probably some internal MIDI issues you should look @\n",
    "\n",
    "Moving on, try to load in a file"
   ]
  },
  {
   "cell_type": "code",
   "execution_count": 7,
   "metadata": {},
   "outputs": [
    {
     "name": "stdout",
     "output_type": "stream",
     "text": [
      "Track 0: \n",
      "Track 1: Slap Bass 2         \n",
      "Track 2: Elec Guitar 1       \n",
      "Track 3: String Sect 3       \n",
      "Track 4: Doctor Solo         \n",
      "Track 5: Harpsichord 2       \n",
      "Track 6: Syn Brass 1         \n",
      "Track 7: Chorale             \n",
      "Track 8: Percussion          \n",
      "Track 9: Syn Brass 1         \n",
      "Track 10:                     \n",
      "Track 11:    \"Take On Me\"     \n"
     ]
    }
   ],
   "source": [
    "# Import MIDI file\n",
    "mfile = mido.MidiFile('Aha_-_Take_On_Me.mid')\n",
    "\n",
    "# Get messages\n",
    "for i, track in enumerate(mfile.tracks):\n",
    "    print('Track {}: {}'.format(i, track.name))\n",
    "    #for msg in track:\n",
    "    #    print(msg)"
   ]
  },
  {
   "cell_type": "code",
   "execution_count": null,
   "metadata": {},
   "outputs": [],
   "source": []
  }
 ],
 "metadata": {
  "kernelspec": {
   "display_name": "generative",
   "language": "python",
   "name": "generative"
  },
  "language_info": {
   "codemirror_mode": {
    "name": "ipython",
    "version": 3
   },
   "file_extension": ".py",
   "mimetype": "text/x-python",
   "name": "python",
   "nbconvert_exporter": "python",
   "pygments_lexer": "ipython3",
   "version": "3.8.2"
  }
 },
 "nbformat": 4,
 "nbformat_minor": 4
}
