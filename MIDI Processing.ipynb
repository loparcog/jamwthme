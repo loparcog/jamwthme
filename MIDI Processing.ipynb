{
 "cells": [
  {
   "cell_type": "markdown",
   "metadata": {},
   "source": [
    "# MIDI DATA PROCESSING\n",
    "\n",
    "Import MIDI processing libraries"
   ]
  },
  {
   "cell_type": "code",
   "execution_count": 1,
   "metadata": {},
   "outputs": [],
   "source": [
    "# Midi reading\n",
    "import mido\n",
    "# File reading\n",
    "import os\n",
    "# Progress bar\n",
    "import tqdm\n",
    "# Data analysis\n",
    "import pandas as pd"
   ]
  },
  {
   "cell_type": "markdown",
   "metadata": {},
   "source": [
    "Try testing out some note and outputs"
   ]
  },
  {
   "cell_type": "code",
   "execution_count": null,
   "metadata": {},
   "outputs": [],
   "source": [
    "# Create note\n",
    "msg = mido.Message('note_on', note=60)\n",
    "# Create output stream to play note\n",
    "outport = mido.open_output()\n",
    "# Send the note\n",
    "outport.send(msg)"
   ]
  },
  {
   "cell_type": "markdown",
   "metadata": {},
   "source": [
    "If a note output, congratulations! Things are working!\n",
    "If not there's probably some internal MIDI issues you should look @\n",
    "\n",
    "Moving on, try to load in a file"
   ]
  },
  {
   "cell_type": "code",
   "execution_count": null,
   "metadata": {},
   "outputs": [],
   "source": [
    "# Import MIDI file\n",
    "mfile = mido.MidiFile('Aha_-_Take_On_Me.mid')\n",
    "\n",
    "# Get messages\n",
    "for i, track in enumerate(mfile.tracks):\n",
    "    print('Track {}: {}'.format(i, track.name))\n",
    "    # Run the below if you want all messages\n",
    "    #for msg in track:\n",
    "    #    print(msg)"
   ]
  },
  {
   "cell_type": "markdown",
   "metadata": {},
   "source": [
    "Now moving into drum tracks\n",
    "\n",
    "All these drum tracks are downloaded from [this link](https://mega.nz/file/ZxgAAIZB#oMYIyy7iLYtnpnwRsKOuVRttOVrAHdQ2-DqPil2s7Lc)\n",
    "\n",
    "Try to get all of the drum tracks imported into a class struct"
   ]
  },
  {
   "cell_type": "code",
   "execution_count": 2,
   "metadata": {
    "scrolled": true
   },
   "outputs": [
    {
     "name": "stderr",
     "output_type": "stream",
     "text": [
      "100%|██████████| 774268/774268 [2:25:29<00:00, 88.70it/s]     \n"
     ]
    }
   ],
   "source": [
    "# Path to look for is MIDI/800000_Drum_Percussion_MIDI_Archive[6_19_15]\n",
    "mypath = 'MIDI/800000_Drum_Percussion_MIDI_Archive[6_19_15]'\n",
    "\n",
    "# Dictionary to hold values to put into csv\n",
    "csvdict = {'path' : [],\n",
    "           'miditype': [],\n",
    "           'tempo': [],\n",
    "           'length': [],\n",
    "           'trackcount' : [],\n",
    "           'trackname' : [],\n",
    "           'timesignature': [],\n",
    "           'messagecount': []}\n",
    "\n",
    "# Analysis function for a MIDI\n",
    "def analyzeMID(mpath):\n",
    "    # Get the file path without the starting folders\n",
    "    filepath = mpath[len(mypath) + 1:]\n",
    "    # Load in the .MID file\n",
    "    try:\n",
    "        mid = mido.MidiFile(mpath)\n",
    "    except:\n",
    "        # Something went wrong with reading, ignore the file and move on\n",
    "        return\n",
    "    # Check the number of tracks through midi type\n",
    "    mtype = mid.type\n",
    "    trackcount = len(mid.tracks)\n",
    "    # Get metadata (tempo, message count)\n",
    "    tempo = mid.ticks_per_beat\n",
    "    mlen = mid.length\n",
    "    #Extract metadata from meta messages\n",
    "    msgcnt = []\n",
    "    tname = []\n",
    "    tsig = []\n",
    "    for track in mid.tracks:\n",
    "        \n",
    "        msgcnt.append(str(len(track)))\n",
    "        temptname = None\n",
    "        temptsig = None\n",
    "        \n",
    "        for msg in track:\n",
    "            # Metadata messages\n",
    "            if msg.type == 'track_name':\n",
    "                temptname = msg.name\n",
    "\n",
    "            elif msg.type == 'time_signature':\n",
    "                # Need to watch if there are two values\n",
    "                temptsig = (\"{}.{}\".format(msg.numerator, msg.denominator))  \n",
    "        \n",
    "        # Check if values were obtained\n",
    "        if temptname == None:\n",
    "            tname.append(\"N/A\")\n",
    "        else:\n",
    "            tname.append(temptname)\n",
    "        if temptsig == None:\n",
    "            tsig.append(\"N/A\")\n",
    "        else:\n",
    "            tsig.append(temptsig)\n",
    "            \n",
    "    # All values loaded, add into dictionary\n",
    "    #print(\"\\n\".join(msglist))\n",
    "    csvdict['path'].append(filepath)\n",
    "    csvdict['miditype'].append(mtype)\n",
    "    csvdict['tempo'].append(tempo)\n",
    "    csvdict['length'].append(mlen)\n",
    "    csvdict['trackcount'].append(trackcount)\n",
    "    csvdict['trackname'].append(\";\".join(tname))\n",
    "    csvdict['timesignature'].append(\";\".join(tsig))\n",
    "    csvdict['messagecount'].append(\";\".join(msgcnt))\n",
    "    \n",
    "    return\n",
    "\n",
    "pbar = tqdm.tqdm(total=774268)\n",
    "\n",
    "# Loop through the path to get all midi files analyzed\n",
    "def getFiles(basepath):\n",
    "    # Recursively get all files\n",
    "    for f in os.listdir(basepath):\n",
    "        # Ignore any mac zip artifacts\n",
    "        if f == '.DS_Store':\n",
    "            continue\n",
    "        # Check if it's a file or a folder\n",
    "        newpath = os.path.join(basepath, f)\n",
    "        if not os.path.isfile(newpath):\n",
    "            # Not a file, recursively print new files\n",
    "            getFiles(newpath)\n",
    "        elif not f.lower().endswith('.mid'):\n",
    "            # Not a midi file, ignore\n",
    "            continue\n",
    "        else:\n",
    "            # Analyze the data of the midi file\n",
    "            analyzeMID(newpath)\n",
    "            pbar.update(1)\n",
    "    # EOF\n",
    "    return 0\n",
    "\n",
    "getFiles(mypath)\n",
    "\n",
    "pbar.close()\n",
    "\n",
    "# Output dictionary to CSV with pandas\n",
    "df = pd.DataFrame.from_dict(csvdict)\n",
    "df.to_csv(\"Dumdata.csv\")\n",
    "\n",
    "# TODO\n",
    "# > Add length\n",
    "# > Make sense of tempo\n",
    "# > Fix time signature output (4/4 vs 4.4 or whatever)\n",
    "# > "
   ]
  },
  {
   "cell_type": "code",
   "execution_count": null,
   "metadata": {},
   "outputs": [],
   "source": [
    "# Load the MIDI\n",
    "testmid = mido.MidiFile(\"MIDI/800000_Drum_Percussion_MIDI_Archive[6_19_15]/Superior Drummer 2 Drum Midi [425,000 files]/00071@FullKit/0991@4#4_STRAIGHT_HiHat/EighthNote/Theme-98/Variation-0/Beat-72-3.mid\")\n",
    "\n",
    "print(testmid.length)\n",
    "print(mido.tempo2bpm(testmid.ticks_per_beat))\n",
    "\n"
   ]
  },
  {
   "cell_type": "code",
   "execution_count": null,
   "metadata": {},
   "outputs": [],
   "source": [
    "a = {\"Hello\": [\"a\", \"b\", \"c\"], \"There\": [1, 2, 3], \"Person\": [\"a,a\", \"b,b\", \"c,c\"]}\n",
    "df = pd.DataFrame.from_dict(a)\n",
    "df.to_csv(\"Dumdata1.csv\")"
   ]
  },
  {
   "cell_type": "code",
   "execution_count": null,
   "metadata": {},
   "outputs": [],
   "source": []
  }
 ],
 "metadata": {
  "kernelspec": {
   "display_name": "generative",
   "language": "python",
   "name": "generative"
  },
  "language_info": {
   "codemirror_mode": {
    "name": "ipython",
    "version": 3
   },
   "file_extension": ".py",
   "mimetype": "text/x-python",
   "name": "python",
   "nbconvert_exporter": "python",
   "pygments_lexer": "ipython3",
   "version": "3.8.2"
  }
 },
 "nbformat": 4,
 "nbformat_minor": 4
}
